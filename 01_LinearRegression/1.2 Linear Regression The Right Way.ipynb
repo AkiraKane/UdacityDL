{
 "cells": [
  {
   "cell_type": "code",
   "execution_count": 1,
   "metadata": {
    "collapsed": true
   },
   "outputs": [],
   "source": [
    "#Import necessary libraries\n",
    "import numpy as np\n",
    "import pandas as pd\n",
    "import matplotlib.pyplot as plt"
   ]
  },
  {
   "cell_type": "code",
   "execution_count": 2,
   "metadata": {
    "collapsed": true
   },
   "outputs": [],
   "source": [
    "points = pd.read_csv(\"data.csv\", header = None)"
   ]
  },
  {
   "cell_type": "code",
   "execution_count": 3,
   "metadata": {
    "collapsed": false
   },
   "outputs": [],
   "source": [
    "#define run functions, basically the steps involved to execute\n",
    "#gradient descent\n",
    "def run():\n",
    "    #Step1 - collect our data\n",
    "    # x = amount of study\n",
    "    # y = scores\n",
    "    \n",
    "    \n",
    "    #Step2 - define our hyperparameters\n",
    "    #how fast should our model converge?\n",
    "    #small learning rate will create slow converge\n",
    "    #large learning rate will be faster but might risk not converging\n",
    "    learning_rate = 0.0001\n",
    "    #set up initial intercept b and slope m\n",
    "    # y = mx + b\n",
    "    initial_b = 0\n",
    "    initial_m = 0\n",
    "    num_iteration = 1000\n",
    "    \n",
    "    #Step 3 - train the model\n",
    "    print (\"Starting Gradient Decent at b = {0}, m = {1}, error = {2}\".format(initial_b, initial_m, compute_error(initial_b, initial_m, points)))\n",
    "    \n",
    "    #run gradient descent\n",
    "    b, m = gradient_descent(points, initial_b, initial_m, learning_rate, num_iteration)\n",
    "    print (\"Ending point at b = {0}, m = {1}, error = {2}\".format(b, m, compute_error(b, m, points)))\n",
    "    "
   ]
  },
  {
   "cell_type": "code",
   "execution_count": 4,
   "metadata": {
    "collapsed": false
   },
   "outputs": [],
   "source": [
    "# calculate the mean squared errors\n",
    "def compute_error(b, m, points):\n",
    "    #grade x and y value\n",
    "    x = points[[0]]\n",
    "    y = points[[1]]\n",
    "    \n",
    "    #calculate fitted y value\n",
    "    for item in x:\n",
    "        calc_y = b + m * x\n",
    "        \n",
    "    y = np.array(y)\n",
    "    calc_y = np.array(calc_y)\n",
    "    \n",
    "    #calculate the difference\n",
    "    diff = abs(y - calc_y)\n",
    "    diff_2 = diff ** 2\n",
    "    \n",
    "    N = len(points)\n",
    "    \n",
    "    #calculate the MSE\n",
    "    error = 1/N * sum(diff_2)\n",
    "    return(error)"
   ]
  },
  {
   "cell_type": "code",
   "execution_count": 8,
   "metadata": {
    "collapsed": true
   },
   "outputs": [],
   "source": [
    "#define and code the gradient descent \n",
    "def gradient_descent(points, starting_b, starting_m, learning_rate, num_iteration):\n",
    "    #starting parameters\n",
    "    b = starting_b\n",
    "    m = starting_m\n",
    "    \n",
    "    #gradient descent\n",
    "    for i in range(num_iteration):\n",
    "        #update b and m with the new more accurate b and m by performing\n",
    "        #this gradient step\n",
    "        b, m = step_gradient(b, m, np.array(points), learning_rate)\n",
    "    return [b, m]"
   ]
  },
  {
   "cell_type": "code",
   "execution_count": 9,
   "metadata": {
    "collapsed": true
   },
   "outputs": [],
   "source": [
    "#define gradient step\n",
    "#based on partial derivatives\n",
    "#Meat of the gradient descent\n",
    "def step_gradient(b, m, points, learning_rate):\n",
    "    \n",
    "    #starting points for our gradients\n",
    "    b_gradient = 0\n",
    "    m_gradient = 0\n",
    "    array_x = np.array(points[:, 0])\n",
    "    array_y = np.array(points[:, 1])\n",
    "    for i in range(len(points)):\n",
    "        x = array_x[i]\n",
    "        y = array_y[i]\n",
    "        #direction with respect to b and m\n",
    "        #computing partial derivatives of our error function\n",
    "        b_gradient += -2/len(points) * (y - (m * x + b))\n",
    "        m_gradient += -2/len(points) * x * (y - (m * x + b))\n",
    "    \n",
    "    new_b = b - (learning_rate * b_gradient)\n",
    "    new_m = m - (learning_rate * m_gradient)\n",
    "    return[new_b, new_m]"
   ]
  },
  {
   "cell_type": "code",
   "execution_count": 10,
   "metadata": {
    "collapsed": false
   },
   "outputs": [
    {
     "name": "stdout",
     "output_type": "stream",
     "text": [
      "Starting Gradient Decent at b = 0, m = 0, error = [ 5565.10783448]\n",
      "Ending point at b = 0.08893651993741353, m = 1.4777440851894448, error = [ 112.61481012]\n"
     ]
    }
   ],
   "source": [
    "#Write the main function\n",
    "if __name__ == \"__main__\":\n",
    "    run()"
   ]
  },
  {
   "cell_type": "code",
   "execution_count": null,
   "metadata": {
    "collapsed": true
   },
   "outputs": [],
   "source": []
  }
 ],
 "metadata": {
  "anaconda-cloud": {},
  "kernelspec": {
   "display_name": "Python [conda root]",
   "language": "python",
   "name": "conda-root-py"
  },
  "language_info": {
   "codemirror_mode": {
    "name": "ipython",
    "version": 3
   },
   "file_extension": ".py",
   "mimetype": "text/x-python",
   "name": "python",
   "nbconvert_exporter": "python",
   "pygments_lexer": "ipython3",
   "version": "3.5.2"
  }
 },
 "nbformat": 4,
 "nbformat_minor": 1
}
