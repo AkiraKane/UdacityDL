{
 "cells": [
  {
   "cell_type": "markdown",
   "metadata": {},
   "source": [
    "# Markdown Basics\n",
    "This quick tutorial shows how to start using markdown"
   ]
  },
  {
   "cell_type": "markdown",
   "metadata": {},
   "source": [
    "## 1 Headers:\n",
    "\n",
    "# Use hashtags for headers: level 1\n",
    "## Level 2\n",
    "### Level 3"
   ]
  },
  {
   "cell_type": "markdown",
   "metadata": {},
   "source": [
    "## 2 Font formatting\n",
    "Use aserisks to **bold** text.  \n",
    "use underscore to _italicize_ text."
   ]
  },
  {
   "cell_type": "markdown",
   "metadata": {},
   "source": [
    "## 3 Ordered List\n",
    "1. Apples\n",
    "2. Pears\n",
    "3. Organges\n",
    "4. Bananas"
   ]
  },
  {
   "cell_type": "markdown",
   "metadata": {},
   "source": [
    "## 4 Unordered List\n",
    "use either * or - with space\n",
    "* Apple\n",
    "- Grape\n",
    "* Banana"
   ]
  },
  {
   "cell_type": "markdown",
   "metadata": {},
   "source": [
    "## 5 Block Quote\n",
    "### use > key\n",
    "My day job as a real estate agent requires a myriad of skills, ranging from accounting to negotiation to business analysis.  Frequently (about every three months) I whip out my marketing skills to advertise my business.  This time I decided to send out postcards to an entire neighborhood in which I had sold homes recently.  Typically, agents will buy a mail route from the post office and hand over their postcards.  In the spirit of frugality and proving a point, I cracked my knuckles and went hunting for data.\n",
    ">Get the shapefiles.  Wake County Open Data (or your local open data hub) has a wealth of county-level data including subdivision boundaries and individual address points.  Download both shapefiles and  load them into your favorite GIS program.  This step can probably be done in R, but I find using QGIS fairly intuitive and much faster at plotting large shapefiles."
   ]
  },
  {
   "cell_type": "markdown",
   "metadata": {},
   "source": [
    "## 6 Email address\n",
    "use < key + email address + > key\n",
    "\n",
    "<bigdataraw@gmail.com>"
   ]
  },
  {
   "cell_type": "markdown",
   "metadata": {},
   "source": [
    "## 7 Inline URL links\n",
    "This is an inline link, use \"<\" key + url + \">\" key  \n",
    "I highly recommend this blog:  \n",
    "<https://www.r-bloggers.com>, for R users"
   ]
  },
  {
   "cell_type": "markdown",
   "metadata": {},
   "source": [
    "## 8 Inline link for embedded links"
   ]
  },
  {
   "cell_type": "markdown",
   "metadata": {},
   "source": [
    "This is an inline link, use [ID]+(link)  \n",
    "I highly recommend this  \n",
    "[R blog](https://www.r-bloggers.com) for R users"
   ]
  },
  {
   "cell_type": "markdown",
   "metadata": {},
   "source": [
    "## 9 Inline link for pictures (stored online)\n",
    "Use ![ID] + (link)  \n",
    "In addition to R, Python is a great language for data science as well. ![Python](https://www.python.org/static/img/python-logo.png)"
   ]
  },
  {
   "cell_type": "markdown",
   "metadata": {},
   "source": [
    "## 10 Additional Resources for Markdown\n",
    "[Make Use of](https://www.youtube.com/watch?v=HndN6P9ke6U): A Great youtube video tutorial  \n",
    "[Markdown Tutorial](http://www.markdowntutorial.com/): A great interactive tutorial  \n",
    "[floatnotes](http://www.floatnotes.org/documentation/markdown-quickreference): A quick reference"
   ]
  }
 ],
 "metadata": {
  "kernelspec": {
   "display_name": "Python 3",
   "language": "python",
   "name": "python3"
  },
  "language_info": {
   "codemirror_mode": {
    "name": "ipython",
    "version": 3
   },
   "file_extension": ".py",
   "mimetype": "text/x-python",
   "name": "python",
   "nbconvert_exporter": "python",
   "pygments_lexer": "ipython3",
   "version": "3.6.0"
  }
 },
 "nbformat": 4,
 "nbformat_minor": 2
}
