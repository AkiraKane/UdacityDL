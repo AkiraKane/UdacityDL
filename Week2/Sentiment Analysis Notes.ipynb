{
 "cells": [
  {
   "cell_type": "markdown",
   "metadata": {},
   "source": [
    "## Lesson: Curate a Dataset"
   ]
  },
  {
   "cell_type": "code",
   "execution_count": 1,
   "metadata": {
    "collapsed": true
   },
   "outputs": [],
   "source": [
    "import numpy as np\n",
    "import pandas as pd"
   ]
  },
  {
   "cell_type": "code",
   "execution_count": 2,
   "metadata": {
    "collapsed": false
   },
   "outputs": [],
   "source": [
    "def pretty_print_review_and_label(i):\n",
    "    print(labels[i] + \"\\t:\\t\" + reviews[i][:80] + \"...\")\n",
    "\n",
    "PATH = \"/home/isaac/UdacityDL/Week2/sentiment_network/\"\n",
    "g = open(PATH + \"reviews.txt\", \"r\") # Load in what we know!\n",
    "reviews = list(map(lambda x:x[:-1], g.readlines()))\n",
    "g.close()\n",
    "\n",
    "g = open(PATH + \"labels.txt\", \"r\") # What we want to know\n",
    "labels = list(map(lambda x:x[:-1].upper(), g.readlines()))\n",
    "g.close()"
   ]
  },
  {
   "cell_type": "code",
   "execution_count": 3,
   "metadata": {
    "collapsed": false
   },
   "outputs": [
    {
     "data": {
      "text/plain": [
       "25000"
      ]
     },
     "execution_count": 3,
     "metadata": {},
     "output_type": "execute_result"
    }
   ],
   "source": [
    "len(reviews)"
   ]
  },
  {
   "cell_type": "code",
   "execution_count": 4,
   "metadata": {
    "collapsed": false
   },
   "outputs": [
    {
     "data": {
      "text/plain": [
       "'story of a man who has unnatural feelings for a pig . starts out with a opening scene that is a terrific example of absurd comedy . a formal orchestra audience is turned into an insane  violent mob by the crazy chantings of it  s singers . unfortunately it stays absurd the whole time with no general narrative eventually making it just too off putting . even those from the era should be turned off . the cryptic dialogue would make shakespeare seem easy to a third grader . on a technical level it  s better than you might think with some good cinematography by future great vilmos zsigmond . future stars sally kirkland and frederic forrest can be seen briefly .  '"
      ]
     },
     "execution_count": 4,
     "metadata": {},
     "output_type": "execute_result"
    }
   ],
   "source": [
    "reviews[1]"
   ]
  },
  {
   "cell_type": "code",
   "execution_count": 5,
   "metadata": {
    "collapsed": false
   },
   "outputs": [
    {
     "data": {
      "text/plain": [
       "'NEGATIVE'"
      ]
     },
     "execution_count": 5,
     "metadata": {},
     "output_type": "execute_result"
    }
   ],
   "source": [
    "labels[1]"
   ]
  },
  {
   "cell_type": "markdown",
   "metadata": {},
   "source": [
    "## Lesson: Develop a Predictive Theory"
   ]
  },
  {
   "cell_type": "code",
   "execution_count": 6,
   "metadata": {
    "collapsed": false
   },
   "outputs": [
    {
     "name": "stdout",
     "output_type": "stream",
     "text": [
      "labels.txt \t : \t reviews.txt\n",
      "\n",
      "NEGATIVE\t:\tthis movie is terrible but it has some good effects .  ...\n",
      "POSITIVE\t:\tadrian pasdar is excellent is this film . he makes a fascinating woman .  ...\n",
      "NEGATIVE\t:\tcomment this movie is impossible . is terrible  very improbable  bad interpretat...\n",
      "POSITIVE\t:\texcellent episode movie ala pulp fiction .  days   suicides . it doesnt get more...\n",
      "NEGATIVE\t:\tif you haven  t seen this  it  s terrible . it is pure trash . i saw this about ...\n",
      "POSITIVE\t:\tthis schiffer guy is a real genius  the movie is of excellent quality and both e...\n"
     ]
    }
   ],
   "source": [
    "print(\"labels.txt \\t : \\t reviews.txt\\n\")\n",
    "pretty_print_review_and_label(2137)\n",
    "pretty_print_review_and_label(12816)\n",
    "pretty_print_review_and_label(6267)\n",
    "pretty_print_review_and_label(21934)\n",
    "pretty_print_review_and_label(5297)\n",
    "pretty_print_review_and_label(4998)"
   ]
  },
  {
   "cell_type": "markdown",
   "metadata": {},
   "source": [
    "## Project 1: Quick Theory Validation"
   ]
  },
  {
   "cell_type": "code",
   "execution_count": 7,
   "metadata": {
    "collapsed": true
   },
   "outputs": [],
   "source": [
    "from collections import Counter\n",
    "import numpy as np"
   ]
  },
  {
   "cell_type": "code",
   "execution_count": 8,
   "metadata": {
    "collapsed": true
   },
   "outputs": [],
   "source": [
    "pos_counter = Counter()\n",
    "neg_counter = Counter()\n",
    "total_counts = Counter()"
   ]
  },
  {
   "cell_type": "code",
   "execution_count": 10,
   "metadata": {
    "collapsed": false
   },
   "outputs": [],
   "source": [
    "for i in range(len(reviews)):ra\n",
    "    if(labels[i] == \"POSITIVE\"):\n",
    "        for word in reviews[i].split(\" \"):\n",
    "            pos_counter[word] += 1\n",
    "            total_counts[word] += 1\n",
    "    elif(labels[i] == \"NEGATIVE\"):\n",
    "        for word in reviews[i].split(\" \"):\n",
    "            neg_counter[word] += 1\n",
    "            total_counts[word] += 1"
   ]
  },
  {
   "cell_type": "code",
   "execution_count": 26,
   "metadata": {
    "collapsed": false
   },
   "outputs": [],
   "source": [
    "# The result of pos_counter and neg_counter is almost the same\n",
    "# Need to normalize the results\n",
    "# Calculate the positive negative ratio\n",
    "pos_neg_ratios = Counter()\n",
    "\n",
    "for term, cnt in list(total_counts.most_common()):\n",
    "    if (cnt > 50):\n",
    "        pos_neg_ratio = pos_counter[term] / float(neg_counter[term] + 1)\n",
    "        pos_neg_ratios[term] = pos_neg_ratio\n",
    "\n",
    "for word, ratio in pos_neg_ratios.most_common():\n",
    "    if(ratio > 1):\n",
    "        pos_neg_ratios[word] = np.log(ratio)\n",
    "    else:\n",
    "        pos_neg_ratios[word] = -np.log((1/(ratio + 0.01)))"
   ]
  },
  {
   "cell_type": "code",
   "execution_count": 30,
   "metadata": {
    "collapsed": false
   },
   "outputs": [
    {
     "data": {
      "text/plain": [
       "[('edie', 4.6913478822291435),\n",
       " ('antwone', 4.4773368144782069),\n",
       " ('din', 4.4067192472642533),\n",
       " ('gunga', 4.1896547420264252),\n",
       " ('goldsworthy', 4.1743872698956368),\n",
       " ('yokai', 4.0943445622221004),\n",
       " ('gypo', 4.0943445622221004),\n",
       " ('paulie', 4.0775374439057197),\n",
       " ('visconti', 3.9318256327243257),\n",
       " ('flavia', 3.9318256327243257),\n",
       " ('gundam', 3.4231762883809305),\n",
       " ('iturbi', 3.2771447329921766),\n",
       " ('felix', 3.1527360223636558),\n",
       " ('capote', 3.0122615755052013),\n",
       " ('fido', 3.0081547935525483),\n",
       " ('excellently', 2.9789251552376097),\n",
       " ('vance', 2.9444389791664403),\n",
       " ('kolchak', 2.9311937524164198),\n",
       " ('hayworth', 2.9267394020670396),\n",
       " ('deanna', 2.9267394020670396),\n",
       " ('sammo', 2.8526314299133175),\n",
       " ('sox', 2.8332133440562162),\n",
       " ('laputa', 2.8332133440562162),\n",
       " ('biko', 2.8332133440562162),\n",
       " ('polanski', 2.8233610476132043),\n",
       " ('alvin', 2.8183982582710754),\n",
       " ('matthau', 2.8067217286092401),\n",
       " ('mathieu', 2.7725887222397811),\n",
       " ('gilliam', 2.7245795030534206),\n",
       " ('victoria', 2.6810215287142909)]"
      ]
     },
     "execution_count": 30,
     "metadata": {},
     "output_type": "execute_result"
    }
   ],
   "source": [
    "pos_neg_ratios.most_common()[:30]"
   ]
  },
  {
   "cell_type": "code",
   "execution_count": 28,
   "metadata": {
    "collapsed": false
   },
   "outputs": [
    {
     "data": {
      "text/plain": [
       "[('boll', -4.0778152602708904),\n",
       " ('uwe', -3.9218753018711578),\n",
       " ('thunderbirds', -3.6447082358007989),\n",
       " ('beowulf', -3.6346396851769396),\n",
       " ('dahmer', -3.5572016301387364),\n",
       " ('wayans', -3.5197159818974928),\n",
       " ('seagal', -3.3202501058581921),\n",
       " ('gamera', -3.0853444322436783),\n",
       " ('dreck', -3.0370818333726866),\n",
       " ('unwatchable', -3.0269848170580955),\n",
       " ('stinker', -2.9876839403711624),\n",
       " ('mst', -2.7753833211707968),\n",
       " ('incoherent', -2.7641396677532537),\n",
       " ('flimsy', -2.7555911458712101),\n",
       " ('dillinger', -2.6762095952465517),\n",
       " ('yawn', -2.66353354771016),\n",
       " ('unfunny', -2.5545257844967644),\n",
       " ('ugh', -2.4922059522696118),\n",
       " ('turd', -2.4922059522696118),\n",
       " ('waste', -2.4907515123361046),\n",
       " ('blah', -2.4475792789485005),\n",
       " ('slugs', -2.4427317247372873),\n",
       " ('tripe', -2.3838842974917549),\n",
       " ('horrid', -2.3715779644809971),\n",
       " ('wtf', -2.3715779644809971),\n",
       " ('pointless', -2.3451073877136341),\n",
       " ('atrocious', -2.3187369339642556),\n",
       " ('damme', -2.3051524884992913),\n",
       " ('redeeming', -2.2667790015910296),\n",
       " ('prom', -2.2601040980178784)]"
      ]
     },
     "execution_count": 28,
     "metadata": {},
     "output_type": "execute_result"
    }
   ],
   "source": [
    "list(reversed(pos_neg_ratios.most_common()))[0:30]"
   ]
  },
  {
   "cell_type": "code",
   "execution_count": null,
   "metadata": {
    "collapsed": true
   },
   "outputs": [],
   "source": []
  }
 ],
 "metadata": {
  "kernelspec": {
   "display_name": "Python [conda root]",
   "language": "python",
   "name": "conda-root-py"
  },
  "language_info": {
   "codemirror_mode": {
    "name": "ipython",
    "version": 3
   },
   "file_extension": ".py",
   "mimetype": "text/x-python",
   "name": "python",
   "nbconvert_exporter": "python",
   "pygments_lexer": "ipython3",
   "version": "3.5.2"
  }
 },
 "nbformat": 4,
 "nbformat_minor": 2
}
