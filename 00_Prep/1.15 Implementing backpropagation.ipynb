{
 "cells": [
  {
   "cell_type": "markdown",
   "metadata": {},
   "source": [
    "### Implementing Backpropagation\n",
    "1. Error in the output layer is:\n",
    "$$\n",
    "\\delta_{k}^{0} = (y - \\hat y) \\times f'(\\alpha_{k}) \\\\\n",
    "\\alpha_{k} = f(\\sum_{j} w_{hidden} input_{hidden})\n",
    "$$\n",
    "2. Error in the hidden layer is:\n",
    "$$\n",
    "\\begin{align}\n",
    "\\delta_{j} = \\sum[w_{jk}\\delta_{k}]f'(h_{j})\n",
    "\\end{align}\n",
    "$$\n",
    "\n",
    "### General Algorithm for updating the weights with backpropagation\n",
    "1. Set the weight steps for each layer to zero\n",
    "    - The input to hidden weights $\\Delta w_{ij} = 0$\n",
    "    - The hidden to output weights $\\Delta W_{j} = 0$\n",
    "2. For each record in the training data:\n",
    "    - Make a forward pass through the network, calculating the output $\\hat y$\n",
    "    - Calculate the error gradient in the output unit, $\\delta^{0} = (y - \\hat y)f'(z) where z = \\sum_{j} W_{j}\\alpha_{j}$, where $\\alpha_{j}$ is the input to the output activation\n",
    "    - Propagate the errors to the hidden layer $\\delta_{j}^{h} = \\delta^{0} W_{j} f'(h_{j})$\n",
    "    - Update the weight steps:\n",
    "        - $\\Delta W_{j} = \\Delta W_{j} + \\delta_{k}^{0} \\alpha_{j}$\n",
    "        - $\\Delta w_{ij} = \\Delta w_{ij} + \\delta_{j}^{h} \\alpha_{i}$\n",
    "3. Update the weights, where $\\eta$ is the learning rate and $m$ is the number of records:\n",
    "    - $W_{j} = W_{j} + \\eta \\Delta W_{j} / m$\n",
    "    - $w_{ij} = w_{ij} + \\eta \\Delta w_{ij} / m$\n",
    "4. Repeat for $\\textbf{e}$ epochs"
   ]
  },
  {
   "cell_type": "code",
   "execution_count": 3,
   "metadata": {
    "collapsed": true
   },
   "outputs": [],
   "source": [
    "## Data preparation\n",
    "import numpy as np\n",
    "import pandas as pd\n",
    "\n",
    "admissions = pd.read_csv('binary.csv')\n",
    "\n",
    "# Make dummy variables for rank\n",
    "data = pd.concat([admissions, pd.get_dummies(admissions['rank'], prefix='rank')], axis=1)\n",
    "data = data.drop('rank', axis=1)\n",
    "\n",
    "# Standarize features\n",
    "for field in ['gre', 'gpa']:\n",
    "    mean, std = data[field].mean(), data[field].std()\n",
    "    data.loc[:,field] = (data[field]-mean)/std\n",
    "    \n",
    "# Split off random 10% of the data for testing\n",
    "np.random.seed(42)\n",
    "sample = np.random.choice(data.index, size=int(len(data)*0.9), replace=False)\n",
    "data, test_data = data.ix[sample], data.drop(sample)\n",
    "\n",
    "# Split into features and targets\n",
    "features, targets = data.drop('admit', axis=1), data['admit']\n",
    "features_test, targets_test = test_data.drop('admit', axis=1), test_data['admit']"
   ]
  },
  {
   "cell_type": "code",
   "execution_count": 11,
   "metadata": {
    "collapsed": false
   },
   "outputs": [],
   "source": [
    "import numpy as np\n",
    "from data_prep import features, targets, features_test, targets_test\n",
    "\n",
    "np.random.seed(42)\n",
    "\n",
    "def sigmoid(x):\n",
    "    \"\"\"\n",
    "    Calculate sigmoid\n",
    "    \"\"\"\n",
    "    return 1 / (1 + np.exp(-x))\n",
    "# Hyperparameters\n",
    "n_hidden = 3  # number of hidden units\n",
    "epochs = 500\n",
    "learnrate = 0.5\n",
    "n_records, n_features = features.shape\n",
    "last_loss = None\n",
    "\n",
    "# Initialize weights\n",
    "weights_input_hidden = np.random.normal(scale=1 / n_features ** -.5,\n",
    "                                        size=(n_features, n_hidden))\n",
    "weights_hidden_output = np.random.normal(scale=1 / n_features ** -.5,\n",
    "                                         size=n_hidden)"
   ]
  },
  {
   "cell_type": "code",
   "execution_count": 12,
   "metadata": {
    "collapsed": false
   },
   "outputs": [
    {
     "data": {
      "text/plain": [
       "-0.41603499990165305"
      ]
     },
     "execution_count": 12,
     "metadata": {},
     "output_type": "execute_result"
    }
   ],
   "source": [
    "error"
   ]
  },
  {
   "cell_type": "code",
   "execution_count": 14,
   "metadata": {
    "collapsed": false
   },
   "outputs": [
    {
     "name": "stdout",
     "output_type": "stream",
     "text": [
      "Train loss:  0.32036363947796054   WARNING - Loss Increasing\n",
      "Train loss:  0.3205326988777323   WARNING - Loss Increasing\n",
      "Train loss:  0.32069570209185233   WARNING - Loss Increasing\n",
      "Train loss:  0.3208528582002487   WARNING - Loss Increasing\n",
      "Train loss:  0.3210043696407538   WARNING - Loss Increasing\n",
      "Train loss:  0.32115043237696067   WARNING - Loss Increasing\n",
      "Train loss:  0.32129123606531207   WARNING - Loss Increasing\n",
      "Train loss:  0.32142696422101413   WARNING - Loss Increasing\n",
      "Train loss:  0.32155779438256005   WARNING - Loss Increasing\n",
      "Train loss:  0.3216838982745182   WARNING - Loss Increasing\n",
      "Prediction accuracy: 0.700\n"
     ]
    }
   ],
   "source": [
    "for e in range(epochs):\n",
    "    del_w_input_hidden = np.zeros(weights_input_hidden.shape)\n",
    "    del_w_hidden_output = np.zeros(weights_hidden_output.shape)\n",
    "    for x, y in zip(features.values, targets):\n",
    "        ## Forward pass ##\n",
    "        # TODO: Calculate the output\n",
    "        hidden_input = np.dot(x, del_w_input_hidden)\n",
    "        hidden_activations = sigmoid(hidden_input)\n",
    "        input_from_hidden_to_output = np.dot(hidden_activations, del_w_hidden_output)\n",
    "        output = sigmoid(input_from_hidden_to_output)\n",
    "        \n",
    "        ## Backward pass ##\n",
    "        # TODO: Calculate the error\n",
    "        error = y - output\n",
    "\n",
    "        # TODO: Calculate error gradient in output unit\n",
    "        output_error = error * output * (1 - output)\n",
    "\n",
    "        # TODO: propagate errors to hidden layer\n",
    "        hidden_error = np.dot(del_w_input_hidden, output_error) * hidden_activations * (1 - hidden_activations)\n",
    "        \n",
    "        # TODO: Update the change in weights\n",
    "        del_w_hidden_output += output_error * hidden_activations\n",
    "        del_w_input_hidden += hidden_error * x[:, None]\n",
    "\n",
    "    # TODO: Update weights\n",
    "    weights_input_hidden += learnrate * del_w_input_hidden / n_records\n",
    "    weights_hidden_output += learnrate * del_w_hidden_output / n_records\n",
    "\n",
    "    # Printing out the mean square error on the training set\n",
    "    if e % (epochs / 10) == 0:\n",
    "        hidden_activations = sigmoid(np.dot(x, weights_input_hidden))\n",
    "        out = sigmoid(np.dot(hidden_activations,\n",
    "                             weights_hidden_output))\n",
    "        loss = np.mean((out - targets) ** 2)\n",
    "\n",
    "        if last_loss and last_loss < loss:\n",
    "            print(\"Train loss: \", loss, \"  WARNING - Loss Increasing\")\n",
    "        else:\n",
    "            print(\"Train loss: \", loss)\n",
    "        last_loss = loss\n",
    "\n",
    "# Calculate accuracy on test data\n",
    "hidden = sigmoid(np.dot(features_test, weights_input_hidden))\n",
    "out = sigmoid(np.dot(hidden, weights_hidden_output))\n",
    "predictions = out > 0.5\n",
    "accuracy = np.mean(predictions == targets_test)\n",
    "print(\"Prediction accuracy: {:.3f}\".format(accuracy))\n"
   ]
  },
  {
   "cell_type": "code",
   "execution_count": null,
   "metadata": {
    "collapsed": true
   },
   "outputs": [],
   "source": []
  }
 ],
 "metadata": {
  "kernelspec": {
   "display_name": "Python [conda root]",
   "language": "python",
   "name": "conda-root-py"
  },
  "language_info": {
   "codemirror_mode": {
    "name": "ipython",
    "version": 3
   },
   "file_extension": ".py",
   "mimetype": "text/x-python",
   "name": "python",
   "nbconvert_exporter": "python",
   "pygments_lexer": "ipython3",
   "version": "3.5.2"
  }
 },
 "nbformat": 4,
 "nbformat_minor": 2
}
