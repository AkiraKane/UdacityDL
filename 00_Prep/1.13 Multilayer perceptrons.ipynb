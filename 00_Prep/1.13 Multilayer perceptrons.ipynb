{
 "cells": [
  {
   "cell_type": "markdown",
   "metadata": {},
   "source": [
    "## Implementing the hidden layer"
   ]
  },
  {
   "cell_type": "code",
   "execution_count": 3,
   "metadata": {
    "collapsed": false
   },
   "outputs": [
    {
     "data": {
      "image/png": "[encoded data removed]",
      "text/plain": [
       "<IPython.core.display.Image object>"
      ]
     },
     "execution_count": 3,
     "metadata": {
      "image/png": {
       "height": 300,
       "width": 300
      }
     },
     "output_type": "execute_result"
    }
   ],
   "source": [
    "from IPython.display import Image\n",
    "Path = \"/home/isaac/UdacityDL/01_LinearRegression/img/\"\n",
    "Image(filename=Path + \"weights-matrix.png\", width=300, height=300)"
   ]
  },
  {
   "cell_type": "markdown",
   "metadata": {},
   "source": [
    "- Now we have multiple input units and multiple hidden units, the weights between them now require two indices: $w_{ij}$, where $i$ denotes input units and $j$ denotes the hidden units\n",
    "- To Initialize weights in Numpy\n",
    "    1. n_record, n_inputs = features.shape\n",
    "    2. n_hidden = 2\n",
    "    3. weights = np.random.normal(0, (1/n_inputs)**(-2), shape = (n_inputs, n_hidden))"
   ]
  },
  {
   "cell_type": "markdown",
   "metadata": {},
   "source": [
    "- Inputs to the hidden layer\n",
    "$$\\large\n",
    "\\begin{align}\n",
    "h_{j} & = \\sum_{I}w_{ij}x_{i} \\\\\n",
    "      & = \\left[x_{1} \\hspace{2mm} x_{2} \\hspace{2mm} x_{3} \\right] \\times \\left \\lgroup \\matrix{w_{11} & w_{12} \\cr w_{21} & w_{22} \\cr w_{31} & w_{32}} \\right \\rgroup \\\\\n",
    "      & = \\left(h_{11} \\hspace{2mm} h_{12}\\right)\n",
    "\\end{align}\n",
    "$$\n",
    "where $h_{11} = x_{1}w_{11} + x_{2}w_{21} + x_{3}w_{31}$, and $h_{12} = x_{1}w_{12} + x_{2}w_{22} + x_{3}w_{32}$\n",
    "\n",
    "In Numpy, hidden_inputs = np.dot(inputs, weights_input_to_hidden)"
   ]
  },
  {
   "cell_type": "markdown",
   "metadata": {},
   "source": [
    "### Making a column vector\n",
    "for a 1D array, arr.T will return a row vector, instead use arr[:, None] to create a column vector"
   ]
  },
  {
   "cell_type": "markdown",
   "metadata": {},
   "source": [
    "### Programming Quiz\n",
    "- Implement a forward pass through a 4x3x2 network, with sigmoid activation functions for both layers\n",
    "- Tasks\n",
    "    1. Calculate the input to the hidden layer\n",
    "    2. Calculate the hidden layer output\n",
    "    3. Calculate the input to the out layer\n",
    "    4. Calculate the output of the network"
   ]
  },
  {
   "cell_type": "code",
   "execution_count": 4,
   "metadata": {
    "collapsed": true
   },
   "outputs": [],
   "source": [
    "import numpy as np"
   ]
  },
  {
   "cell_type": "code",
   "execution_count": 5,
   "metadata": {
    "collapsed": true
   },
   "outputs": [],
   "source": [
    "def sigmoid(x):\n",
    "    return (1 / (1 + np.exp(-x)))"
   ]
  },
  {
   "cell_type": "code",
   "execution_count": 6,
   "metadata": {
    "collapsed": false
   },
   "outputs": [
    {
     "name": "stdout",
     "output_type": "stream",
     "text": [
      "Hidden-layer Output:\n",
      "[ 0.41492192  0.42604313  0.5002434 ]\n",
      "Output-layer Output:\n",
      "[ 0.49815196  0.48539772]\n"
     ]
    }
   ],
   "source": [
    "# Network size\n",
    "N_input = 4\n",
    "N_hidden = 3\n",
    "N_output = 2\n",
    "\n",
    "np.random.seed(42)\n",
    "# Make some fake data\n",
    "X = np.random.randn(N_input)\n",
    "\n",
    "weights_in_hidden = np.random.normal(0, scale=0.1, size=(N_input, N_hidden))\n",
    "weights_hidden_out = np.random.normal(0, scale=0.1, size=(N_hidden, N_output))\n",
    "\n",
    "\n",
    "# TODO: Make a forward pass through the network\n",
    "\n",
    "hidden_layer_in = np.dot(X, weights_in_hidden)\n",
    "# 1,4 x 4,3 = 1,3 \n",
    "hidden_layer_out = sigmoid(hidden_layer_in)\n",
    "# 1,3\n",
    "print('Hidden-layer Output:')\n",
    "print(hidden_layer_out)\n",
    "\n",
    "output_layer_in = np.dot(hidden_layer_out, weights_hidden_out)\n",
    "# 1,3 x 3,2 = 1,2\n",
    "output_layer_out = sigmoid(output_layer_in)\n",
    "# 1,2\n",
    "print('Output-layer Output:')\n",
    "print(output_layer_out)"
   ]
  },
  {
   "cell_type": "code",
   "execution_count": null,
   "metadata": {
    "collapsed": true
   },
   "outputs": [],
   "source": []
  }
 ],
 "metadata": {
  "kernelspec": {
   "display_name": "Python [conda root]",
   "language": "python",
   "name": "conda-root-py"
  },
  "language_info": {
   "codemirror_mode": {
    "name": "ipython",
    "version": 3
   },
   "file_extension": ".py",
   "mimetype": "text/x-python",
   "name": "python",
   "nbconvert_exporter": "python",
   "pygments_lexer": "ipython3",
   "version": "3.5.2"
  }
 },
 "nbformat": 4,
 "nbformat_minor": 2
}
