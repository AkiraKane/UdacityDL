{
 "cells": [
  {
   "cell_type": "markdown",
   "metadata": {},
   "source": [
    "## 1. Write math inline\n",
    "$y = mx + b$"
   ]
  },
  {
   "cell_type": "markdown",
   "metadata": {},
   "source": [
    "## 2. Create a display Expression, use double dollar signs\n",
    "$$P(A\\mid B) = \\frac{P(B\\mid A)P(A)}{P(B)}$$"
   ]
  },
  {
   "cell_type": "markdown",
   "metadata": {},
   "source": [
    "## 3. Superscript\n",
    "$x^2$\n",
    "\n",
    "$x^{2x}$"
   ]
  },
  {
   "cell_type": "markdown",
   "metadata": {},
   "source": [
    "## 4. Subscript\n",
    "$x_i$\n",
    "\n",
    "$_{10}C_5$"
   ]
  },
  {
   "cell_type": "markdown",
   "metadata": {},
   "source": [
    "## 5. Commands\n",
    "$\\sqrt{2\\pi}$"
   ]
  },
  {
   "cell_type": "markdown",
   "metadata": {},
   "source": [
    "## 6. Symbols\n",
    "$\\alpha, \\beta, \\gamma$\n",
    "\n",
    "$\\Phi, \\Lambda, \\Gamma$\n",
    "\n",
    "$\\times, \\pm, \\cup, \\oplus$\n",
    "\n",
    "$\\sin({kx - wt})$\n",
    "\n",
    "$\\leq, \\geq, \\approx, \\neq$\n",
    "\n",
    "$\\cdots, \\ldots, \\ddots$\n",
    "\n",
    "$\\infty, \\nabla, \\partial$"
   ]
  },
  {
   "cell_type": "markdown",
   "metadata": {},
   "source": [
    "## Accents\n",
    "$\\hat x$\n",
    "\n",
    "$\\widehat {xyz}$\n",
    "\n",
    "$\\bar x$\n",
    "\n",
    "$\\overline {XYZ}$\n",
    "\n",
    "$\\dot x$\n",
    "\n",
    "$\\ddot x$\n",
    "\n",
    "$\\vec x$\n",
    "\n",
    "$\\overrightarrow{XYZ}$"
   ]
  },
  {
   "cell_type": "markdown",
   "metadata": {},
   "source": [
    "## Parentheses, Brackets, Braces\n",
    "\n",
    "$z =(\\frac{dx}{dy})^{1/3} $\n",
    "\n",
    "$z = \\left(\\frac{dx}{dy}\\right)^{1/3}$\n",
    "\n",
    "$\\vert{X}\\vert$\n",
    "\n",
    "$P(A \\mid B)$\n",
    "\n",
    "$\\langle \\phi \\mid \\psi \\rangle$\n",
    "\n",
    "$\\left \\lgroup \\matrix{a & b \\cr c & d} \\right \\rgroup$"
   ]
  },
  {
   "cell_type": "markdown",
   "metadata": {},
   "source": [
    "## Typefaces and font options\n",
    "$\\large lg$\n",
    "$\\Large Large$\n",
    "$\\LARGE large$\n",
    "$\\huge Huge$"
   ]
  },
  {
   "cell_type": "markdown",
   "metadata": {},
   "source": [
    "$\\int _n ^m f(x) dx$"
   ]
  },
  {
   "cell_type": "markdown",
   "metadata": {},
   "source": [
    "## Aligned Equations\n",
    "$$\n",
    "a_1 = b_1 + c_1 \\\\\n",
    "a_2 = b_2 + c_2 + d_2\n",
    "$$\n",
    "\n",
    "$$\n",
    "\\begin{align}\n",
    "a_1 & = b_1 + c_1 \\\\\n",
    "a_2 & = b_2 + c_2 + d_2\n",
    "\\end{align}\n",
    "$$"
   ]
  },
  {
   "cell_type": "markdown",
   "metadata": {
    "collapsed": true
   },
   "source": [
    "## Some good references\n",
    "[Functions with multi definitions](https://www.johndcook.com/blog/2009/09/14/latex-multi-part-definitions/)"
   ]
  },
  {
   "cell_type": "code",
   "execution_count": null,
   "metadata": {
    "collapsed": true
   },
   "outputs": [],
   "source": []
  }
 ],
 "metadata": {
  "kernelspec": {
   "display_name": "Octave",
   "language": "octave",
   "name": "octave"
  },
  "language_info": {
   "file_extension": ".m",
   "help_links": [
    {
     "text": "GNU Octave",
     "url": "https://www.gnu.org/software/octave/support.html"
    },
    {
     "text": "Octave Kernel",
     "url": "https://github.com/Calysto/octave_kernel"
    },
    {
     "text": "MetaKernel Magics",
     "url": "https://github.com/calysto/metakernel/blob/master/metakernel/magics/README.md"
    }
   ],
   "mimetype": "text/x-octave",
   "name": "octave",
   "version": "4.0.2"
  }
 },
 "nbformat": 4,
 "nbformat_minor": 2
}
