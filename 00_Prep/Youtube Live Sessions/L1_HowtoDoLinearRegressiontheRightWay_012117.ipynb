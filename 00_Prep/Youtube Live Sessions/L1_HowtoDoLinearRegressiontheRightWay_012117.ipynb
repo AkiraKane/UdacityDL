{
 "cells": [
  {
   "cell_type": "code",
   "execution_count": 9,
   "metadata": {
    "collapsed": false
   },
   "outputs": [
    {
     "name": "stdout",
     "output_type": "stream",
     "text": [
      "starting gradient descent at b = 0, m = 0, error = 5565.107834483211\n",
      "ending gradient descent at b = 0.06958777920362541, m = 1.480856127224729, error = 112.64498963256474\n"
     ]
    }
   ],
   "source": [
    "from numpy import *\n",
    "\n",
    "def compute_error(b, m, points):\n",
    "    #initialization at 0\n",
    "    total_error = 0\n",
    "    \n",
    "    #Loop through all the points\n",
    "    for i in range(0, len(points)):\n",
    "        #get the x, y value:\n",
    "        x = points[i, 0]\n",
    "        y = points[i, 1]\n",
    "        #calculate the difference square\n",
    "        diff_square = (y - (m*x + b)) ** 2\n",
    "        #sum it up\n",
    "        total_error = total_error + diff_square\n",
    "        \n",
    "    return (total_error / float(len(points)))\n",
    "\n",
    "def gradient_descent_runner(points, starting_b, starting_m, learning_rate, num_iterations):\n",
    "    #starting b and m\n",
    "    b = starting_b\n",
    "    m = starting_m\n",
    "    \n",
    "    #gradient descent\n",
    "    for i in range(num_iterations):\n",
    "        #update b and m with the new more accurate b and m by performing\n",
    "        #this gradient step\n",
    "        b, m = step_gradient(b, m, array(points), learning_rate)\n",
    "    return[b, m]\n",
    "\n",
    "#meat!!! The greatest!\n",
    "def step_gradient(b_current, m_current, points, learning_rate):\n",
    "    \n",
    "    #starting points for our gradients\n",
    "    b_gradient = 0\n",
    "    m_gradient = 0\n",
    "    \n",
    "    N = float(len(points))\n",
    "    \n",
    "    for i in range(0, len(points)):\n",
    "        x = points[i,0]\n",
    "        y = points[i,1]\n",
    "        #direction with respect to b and m\n",
    "        #computing partial derivatives of our error function\n",
    "        b_gradient = b_gradient - (2/N) * (y - ((m_current * x) + b_current))\n",
    "        m_gradient = m_gradient - (2/N) * x * (y - (m_current*x) +b_current)\n",
    "    \n",
    "    #update b and m values\n",
    "    new_b = b_current - (learning_rate * b_gradient)\n",
    "    new_m = m_current - (learning_rate * m_gradient)\n",
    "    return [new_b, new_m]\n",
    "    \n",
    "def run():\n",
    "    \n",
    "    #Step 1 - collect our data\n",
    "    points = genfromtxt('data.csv', delimiter = \",\")\n",
    "    \n",
    "    #Step 2 - define hyperparameters\n",
    "    #how fast should the model converge?\n",
    "    # if the learning rate is too small, it will be slow\n",
    "    # if it's too big, it might not converge\n",
    "    learning_rate = 0.0001\n",
    "    \n",
    "    #Linear model is y = mx + b\n",
    "    initial_b = 0\n",
    "    initial_m = 0\n",
    "    num_iterations = 1000\n",
    "    \n",
    "    #Step 3 - train the model\n",
    "    print (\"starting gradient descent at b = {0}, m = {1}, error = {2}\".format(initial_b, initial_m, compute_error(initial_b, initial_m, points)))\n",
    "    [b, m] = gradient_descent_runner(points, initial_b, initial_m, learning_rate, num_iterations)\n",
    "    print (\"ending gradient descent at b = {0}, m = {1}, error = {2}\".format(b, m, compute_error(b, m, points)))\n",
    "    \n",
    "if __name__ == '__main__':\n",
    "    run()"
   ]
  }
 ],
 "metadata": {
  "anaconda-cloud": {},
  "celltoolbar": "Raw Cell Format",
  "kernelspec": {
   "display_name": "Python [conda root]",
   "language": "python",
   "name": "conda-root-py"
  },
  "language_info": {
   "codemirror_mode": {
    "name": "ipython",
    "version": 3
   },
   "file_extension": ".py",
   "mimetype": "text/x-python",
   "name": "python",
   "nbconvert_exporter": "python",
   "pygments_lexer": "ipython3",
   "version": "3.5.2"
  }
 },
 "nbformat": 4,
 "nbformat_minor": 1
}
