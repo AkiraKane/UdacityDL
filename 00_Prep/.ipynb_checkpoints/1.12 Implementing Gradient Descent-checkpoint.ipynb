{
 "cells": [
  {
   "cell_type": "markdown",
   "metadata": {},
   "source": [
    "## Implementing Gradient Descent\n",
    "- Use gradient descent to train a network on graduate school admissions data\n",
    "- File path \"/home/isaac/UdacityDL/00_Prep/binary.csv\""
   ]
  },
  {
   "cell_type": "markdown",
   "metadata": {},
   "source": [
    "### Data Cleanup\n",
    "- we actually need to transform the data first. The rank feature is categorical, the numbers don't encode any sort of relative values. Rank 2 is not twice as much as rank 1, rank 3 is not 1.5 more than rank 2. Instead, we need to use dummy variables to encode rank, splitting the data into four new columns encoded with ones or zeros.\n",
    "- We'll also need to standardize the GRE and GPA data, which means to scale the values such they have zero mean and a standard deviation of 1. This is necessary because the sigmoid function squashes really small and really large inputs. The gradient of really small and large inputs is zero, which means that the gradient descent step will go to zero too. "
   ]
  },
  {
   "cell_type": "markdown",
   "metadata": {},
   "source": [
    "### Algorithm Explained\n",
    "- Set the weight step to zero: $\\Delta w_{i} = 0$\n",
    "- For each record in the training data\n",
    "    1. Make a forward pass through the network, calculating the output $\\hat y = f(\\sum_{i}w_{i}x_{i})$\n",
    "    2. Calculate the error gradient in the output unit, $\\delta = (y - \\hat y) \\times f'(\\sum_{i}w_{i}x_{i})$\n",
    "    3. Update the weight step $\\Delta w_{i} = w_{i} + \\delta x_{i}$\n",
    "- Update the weights $ \\large w_{i} = w_{i} + \\frac {\\eta \\Delta w_{i}} {m}, \\hspace{2mm}$ where $\\eta$ is the learning rate and m is the number of records\n",
    "- Repeat for $e$ epochs"
   ]
  },
  {
   "cell_type": "code",
   "execution_count": null,
   "metadata": {
    "collapsed": true
   },
   "outputs": [],
   "source": []
  }
 ],
 "metadata": {
  "kernelspec": {
   "display_name": "Python [conda root]",
   "language": "python",
   "name": "conda-root-py"
  },
  "language_info": {
   "codemirror_mode": {
    "name": "ipython",
    "version": 3
   },
   "file_extension": ".py",
   "mimetype": "text/x-python",
   "name": "python",
   "nbconvert_exporter": "python",
   "pygments_lexer": "ipython3",
   "version": "3.5.2"
  }
 },
 "nbformat": 4,
 "nbformat_minor": 2
}
