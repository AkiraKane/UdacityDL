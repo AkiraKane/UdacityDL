{
 "cells": [
  {
   "cell_type": "markdown",
   "metadata": {},
   "source": [
    "## Backpropagation\n",
    "- Backpropagation addresses the problem of how to make a multilayer neural network $\\textit{learn}$.\n",
    "- Backpropagation is an extension of updating weights with gradient descent.\n",
    "- It uses the chain rule to find the error with the respect to the weights connecting the input layer to the hidden layer\n",
    "\n",
    "### Concepts\n",
    "1. Ouput layer error $\\large \\delta_{k}^{0}$\n",
    "2. Then the error attributed to the hidden unit $j$ is the output error scaled by the weights between the output and hidden layers and the gradient of the hidden layer:\n",
    "$$\\large\n",
    "\\delta_{j}^{h} = \\sum W_{jk} \\delta_{k}^{0} f'(h_{j})\n",
    "$$\n",
    "3. Then the gradient descent step is the same as before, just with the new errors:\n",
    "$$\\large\n",
    "\\Delta w_{ij} = \\eta \\delta_{j}^{h} x_{i}\n",
    "$$\n",
    "where $w_{ij}$ are the weights between the input and hidden layer and $x_{i}$ are input unit values\n",
    "4. The weight steps are equal to the learn rate times the output error of the layer times the values of the inputs to that layer\n",
    "$$\\large\n",
    "\\Delta w_{pq} = \\eta \\delta_{output} V_{input}\n",
    "$$\n",
    "\n",
    "The output error, $\\delta_{output}$, by propagating the errors backwards from higher layers. Input values, $V_{input} are the inputs to the layer, e.g. the hidden layer activations to the ouput unit"
   ]
  },
  {
   "cell_type": "code",
   "execution_count": 4,
   "metadata": {
    "collapsed": false
   },
   "outputs": [
    {
     "data": {
      "image/png": "[encoded data removed]",
      "text/plain": [
       "<IPython.core.display.Image object>"
      ]
     },
     "execution_count": 4,
     "metadata": {
      "image/png": {
       "height": 150,
       "width": 150
      }
     },
     "output_type": "execute_result"
    }
   ],
   "source": [
    "from IPython.display import Image\n",
    "Path = \"/home/isaac/UdacityDL/00_Prep/\"\n",
    "Image(filename=Path + \"backprop-network.png\", width=150, height=150)"
   ]
  },
  {
   "cell_type": "markdown",
   "metadata": {},
   "source": [
    "### Working through an example\n",
    "\n",
    "Assume we're trying to fit some binary data and the target is y = 1. Start with the forward pass.\n",
    "1. First calculate the input to the hidden unit:\n",
    "$$\\large\n",
    "h = \\sum_{i}w_{i}x_{i} = 0.1 \\times 0.4 + 0.3 \\times (-0.2) = -0.02\n",
    "$$\n",
    "2. Output of the hiddent unit\n",
    "$$\n",
    "f(h) = sigmoid(-0.02) = \\frac{1}{1 + e^{-1 \\times -0.02}} = 0.495\n",
    "$$\n",
    "3. Input to the output activation\n",
    "$$\n",
    "\\alpha = 0.1 \\times f(h) = 0.1 \\times 0.495 = 0.0495\n",
    "$$\n",
    "4. $\\textbf{Output of the Network}$\n",
    "$$\n",
    "\\hat y = sigmoid(\\alpha) = \\frac{1}{1 + e^{-0.0495}} = 0.51237\n",
    "$$\n",
    "5. Calculate the error of the Network\n",
    "$$\n",
    "\\begin{align}\n",
    "\\delta^{0} & = (y - \\hat y)f'(\\alpha) \\\\\n",
    "& = (y - \\hat y)f(\\alpha) (1-f(\\alpha))) \\\\ \n",
    "& = (y - \\hat  y)\\hat y(1-\\hat y) \\\\\n",
    "& = (1 - 0.51237) \\times 0.51237 \\times (1-0.51237) \\\\\n",
    "& = 0.12183\n",
    "\\end{align}\n",
    "$$\n",
    "6. Calculate the error of the hidden network\n",
    "$$\n",
    "\\begin{align}\n",
    "\\delta_{j}^{h} &= W\\delta^{0}f'(h) \\\\ \n",
    "&= 0.1 \\times 0.12183 \\times 0.495 \\times (1-0.495) \\\\\n",
    "&= 0.0030439\n",
    "\\end{align}\n",
    "$$\n",
    "7. Calculate the gradient descent steps: The hidden to output gradient weight step\n",
    "$$\n",
    "\\Delta W = \\eta \\delta^{0} f(h) = 0.5 \\times 0.12183 \\times 0.495 = 0.030153\n",
    "$$\n",
    "8. For the input to hidden weights $w_{i}$, it's the learning rate times the hidden unit error, times the input values\n",
    "$$\n",
    "\\Delta w_{i} = \\eta \\delta_{j}^{h} x_{i} = 0.5 \\times 0.0030439 \\times [0.1 \\hspace{4mm} 0.3] = [1.5220e-04 \\hspace{4mm} 4.5658e-04]\n",
    "$$"
   ]
  },
  {
   "cell_type": "markdown",
   "metadata": {},
   "source": [
    "## Implementation"
   ]
  },
  {
   "cell_type": "code",
   "execution_count": 9,
   "metadata": {
    "collapsed": true
   },
   "outputs": [],
   "source": [
    "import numpy as np"
   ]
  },
  {
   "cell_type": "code",
   "execution_count": 10,
   "metadata": {
    "collapsed": true
   },
   "outputs": [],
   "source": [
    "def sigmoid(x):\n",
    "    return 1/(1 + np.exp(-x))"
   ]
  },
  {
   "cell_type": "code",
   "execution_count": 41,
   "metadata": {
    "collapsed": false
   },
   "outputs": [
    {
     "name": "stdout",
     "output_type": "stream",
     "text": [
      "Change in weights for hidden layer to output layer:\n",
      "[ 0.00804047  0.00555918]\n",
      "Change in weights for input layer to hidden layer:\n",
      "[[  1.77005547e-04  -5.11178506e-04]\n",
      " [  3.54011093e-05  -1.02235701e-04]\n",
      " [ -7.08022187e-05   2.04471402e-04]]\n"
     ]
    }
   ],
   "source": [
    "x = np.array([0.5, 0.1, -0.2])\n",
    "target = 0.6\n",
    "learnrate = 0.5\n",
    "\n",
    "weights_input_hidden = np.array([[0.5, -0.6],\n",
    "                                 [0.1, -0.2],\n",
    "                                 [0.1, 0.7]])\n",
    "\n",
    "weights_hidden_output = np.array([0.1, -0.3])\n",
    "## Forward pass\n",
    "hidden_layer_input = np.dot(x, weights_input_hidden)\n",
    "hidden_layer_output = sigmoid(hidden_layer_input)\n",
    "\n",
    "output_layer_in = np.dot(hidden_layer_output, weights_hidden_output)\n",
    "output = sigmoid(output_layer_in)\n",
    "\n",
    "## Backwards pass\n",
    "## TODO: Calculate error\n",
    "error = target - output\n",
    "\n",
    "# TODO: Calculate error gradient for output layer\n",
    "del_err_output = error * output * (1 - output)\n",
    "\n",
    "# TODO: Calculate error gradient for hidden layer\n",
    "del_err_hidden = del_err_output * weights_hidden_output * hidden_layer_output * (1-hidden_layer_output) \n",
    "    \n",
    "# TODO: Calculate change in weights for hidden layer to output layer\n",
    "delta_w_h_o = learnrate * del_err_output * hidden_layer_output\n",
    "\n",
    "# TODO: Calculate change in weights for input layer to hidden layer\n",
    "delta_w_i_o = learnrate * del_err_hidden * x[:, None]\n",
    "\n",
    "print('Change in weights for hidden layer to output layer:')\n",
    "print(delta_w_h_o)\n",
    "print('Change in weights for input layer to hidden layer:')\n",
    "print(delta_w_i_o)"
   ]
  },
  {
   "cell_type": "code",
   "execution_count": 1,
   "metadata": {
    "collapsed": false
   },
   "outputs": [
    {
     "name": "stdout",
     "output_type": "stream",
     "text": [
      "Change in weights for hidden layer to output layer:\n",
      "[ 0.00804047  0.00555918]\n",
      "Change in weights for input layer to hidden layer:\n",
      "[[  1.77005547e-04  -5.11178506e-04]\n",
      " [  3.54011093e-05  -1.02235701e-04]\n",
      " [ -7.08022187e-05   2.04471402e-04]]\n"
     ]
    }
   ],
   "source": [
    "import numpy as np\n",
    "\n",
    "\n",
    "def sigmoid(x):\n",
    "    \"\"\"\n",
    "    Calculate sigmoid\n",
    "    \"\"\"\n",
    "    return 1 / (1 + np.exp(-x))\n",
    "\n",
    "\n",
    "x = np.array([0.5, 0.1, -0.2])\n",
    "target = 0.6\n",
    "learnrate = 0.5\n",
    "\n",
    "weights_input_hidden = np.array([[0.5, -0.6],\n",
    "                                 [0.1, -0.2],\n",
    "                                 [0.1, 0.7]])\n",
    "\n",
    "weights_hidden_output = np.array([0.1, -0.3])\n",
    "\n",
    "## Forward pass\n",
    "hidden_layer_input = np.dot(x, weights_input_hidden)\n",
    "hidden_layer_output = sigmoid(hidden_layer_input)\n",
    "\n",
    "output_layer_in = np.dot(hidden_layer_output, weights_hidden_output)\n",
    "output = sigmoid(output_layer_in)\n",
    "\n",
    "## Backwards pass\n",
    "## TODO: Calculate error\n",
    "error = target - output\n",
    "\n",
    "# TODO: Calculate error gradient for output layer\n",
    "del_err_output = error * sigmoid(output_layer_in) * (1 - sigmoid(output_layer_in))\n",
    "\n",
    "# TODO: Calculate error gradient for hidden layer\n",
    "\n",
    "del_err_hidden = np.dot(del_err_output, weights_hidden_output) * \\\n",
    "                 hidden_layer_output * (1 - hidden_layer_output)\n",
    "\n",
    "# TODO: Calculate change in weights for hidden layer to output layer\n",
    "delta_w_h_o = learnrate * del_err_output * hidden_layer_output\n",
    "\n",
    "# TODO: Calculate change in weights for input layer to hidden layer\n",
    "delta_w_i_o = learnrate * del_err_hidden * x[:, None]\n",
    "\n",
    "print('Change in weights for hidden layer to output layer:')\n",
    "print(delta_w_h_o)\n",
    "print('Change in weights for input layer to hidden layer:')\n",
    "print(delta_w_i_o)"
   ]
  },
  {
   "cell_type": "code",
   "execution_count": null,
   "metadata": {
    "collapsed": true
   },
   "outputs": [],
   "source": []
  }
 ],
 "metadata": {
  "kernelspec": {
   "display_name": "Python [conda root]",
   "language": "python",
   "name": "conda-root-py"
  },
  "language_info": {
   "codemirror_mode": {
    "name": "ipython",
    "version": 3
   },
   "file_extension": ".py",
   "mimetype": "text/x-python",
   "name": "python",
   "nbconvert_exporter": "python",
   "pygments_lexer": "ipython3",
   "version": "3.5.2"
  }
 },
 "nbformat": 4,
 "nbformat_minor": 2
}
