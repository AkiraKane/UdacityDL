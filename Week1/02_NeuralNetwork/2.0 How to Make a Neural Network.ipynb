{
 "cells": [
  {
   "cell_type": "code",
   "execution_count": 67,
   "metadata": {
    "collapsed": false
   },
   "outputs": [],
   "source": [
    "#load necessary libraries\n",
    "import numpy as np # use number matrices\n",
    "import pandas as pd # work with data as tables\n",
    "import matplotlib.pyplot as plt \n",
    "import tensorflow as tf"
   ]
  },
  {
   "cell_type": "code",
   "execution_count": 68,
   "metadata": {
    "collapsed": false
   },
   "outputs": [],
   "source": [
    "# Step 1 Load the data\n",
    "df = pd.read_csv(\"data.csv\")\n",
    "# Remove the features less important, axis = 1 means remove cols\n",
    "df = df.drop([\"index\", \"price\", \"sq_price\"], axis = 1)\n",
    "# Only select top 10 rows\n",
    "df_10 = df[:10]"
   ]
  },
  {
   "cell_type": "code",
   "execution_count": 69,
   "metadata": {
    "collapsed": false
   },
   "outputs": [
    {
     "name": "stderr",
     "output_type": "stream",
     "text": [
      "/Users/isaac/anaconda/lib/python3.5/site-packages/pandas/core/indexing.py:288: SettingWithCopyWarning: \n",
      "A value is trying to be set on a copy of a slice from a DataFrame.\n",
      "Try using .loc[row_indexer,col_indexer] = value instead\n",
      "\n",
      "See the caveats in the documentation: http://pandas.pydata.org/pandas-docs/stable/indexing.html#indexing-view-versus-copy\n",
      "  self.obj[key] = _infer_fill_value(value)\n",
      "/Users/isaac/anaconda/lib/python3.5/site-packages/pandas/core/indexing.py:549: SettingWithCopyWarning: \n",
      "A value is trying to be set on a copy of a slice from a DataFrame.\n",
      "Try using .loc[row_indexer,col_indexer] = value instead\n",
      "\n",
      "See the caveats in the documentation: http://pandas.pydata.org/pandas-docs/stable/indexing.html#indexing-view-versus-copy\n",
      "  self.obj[item_labels[indexer[info_axis]]] = value\n"
     ]
    }
   ],
   "source": [
    "# Step 2 Create the labels\n",
    "df_10.loc[:,(\"y1\")] = [1,1,1,0,0,1,0,1,1,1]"
   ]
  },
  {
   "cell_type": "code",
   "execution_count": 70,
   "metadata": {
    "collapsed": false
   },
   "outputs": [
    {
     "name": "stderr",
     "output_type": "stream",
     "text": [
      "/Users/isaac/anaconda/lib/python3.5/site-packages/pandas/core/indexing.py:288: SettingWithCopyWarning: \n",
      "A value is trying to be set on a copy of a slice from a DataFrame.\n",
      "Try using .loc[row_indexer,col_indexer] = value instead\n",
      "\n",
      "See the caveats in the documentation: http://pandas.pydata.org/pandas-docs/stable/indexing.html#indexing-view-versus-copy\n",
      "  self.obj[key] = _infer_fill_value(value)\n",
      "/Users/isaac/anaconda/lib/python3.5/site-packages/pandas/core/indexing.py:465: SettingWithCopyWarning: \n",
      "A value is trying to be set on a copy of a slice from a DataFrame.\n",
      "Try using .loc[row_indexer,col_indexer] = value instead\n",
      "\n",
      "See the caveats in the documentation: http://pandas.pydata.org/pandas-docs/stable/indexing.html#indexing-view-versus-copy\n",
      "  self.obj[item] = s\n"
     ]
    }
   ],
   "source": [
    "#y2 is the negation of y1\n",
    "#.astype(int) convert True or False to binary\n",
    "df_10.loc[:,(\"y2\")] = (df_10[\"y1\"] == 0).astype(int)"
   ]
  },
  {
   "cell_type": "code",
   "execution_count": 71,
   "metadata": {
    "collapsed": false
   },
   "outputs": [],
   "source": [
    "#Step 3 prepare data for tensor flow, convert all data to tensors\n",
    "#Tensors are generic version of vectors and matrices\n",
    "#Vectors is a list of numbers (1D)\n",
    "#matrices is a list of vectors (2D)\n",
    "#Convert features to input tensors\n",
    "inputX = df_10.loc[:, [\"area\", \"bathrooms\"]].as_matrix()\n",
    "#Convert labels to tensors\n",
    "inputY = df_10.loc[:,[\"y1\", \"y2\"]].as_matrix()"
   ]
  },
  {
   "cell_type": "code",
   "execution_count": 72,
   "metadata": {
    "collapsed": false
   },
   "outputs": [],
   "source": [
    "#Step 4 to write out hyperparameters\n",
    "learning_rate = 0.000001\n",
    "training_epochs = 2000\n",
    "disp_steps = 50\n",
    "n_sample = inputY.size"
   ]
  },
  {
   "cell_type": "code",
   "execution_count": 73,
   "metadata": {
    "collapsed": false
   },
   "outputs": [],
   "source": [
    "#Step 5 Create computation graph/neural network\n",
    "#For feature input tensors, none means any number of examples\n",
    "#2 means two features\n",
    "#place holders are gateways for data into our computation graph\n",
    "x = tf.placeholder(tf.float32, [None, 2])\n",
    "\n",
    "#Set up weights\n",
    "#2x2 matrix that we'll keep updating through\n",
    "#the training process\n",
    "#variables in tf hold and update parameters\n",
    "#in memory buffers containing tensors\n",
    "w_weights = tf.Variable(tf.zeros([2,2]))\n",
    "\n",
    "#add biases\n",
    "#similar to y = mx + b, b is biases\n",
    "b_biases = tf.Variable(tf.zeros([2]))\n",
    "\n",
    "#multiply input by weights and add biases\n",
    "y_values = tf.add(tf.matmul(x, w_weights), b_biases)\n",
    "\n",
    "#apply softmax/sigmod to value \n",
    "#softmax is the activation function\n",
    "y = tf.nn.softmax(y_values)\n",
    "\n",
    "#feed in a matrix of labels\n",
    "y_ = tf.placeholder(tf.float32,[None, 2])"
   ]
  },
  {
   "cell_type": "code",
   "execution_count": 74,
   "metadata": {
    "collapsed": false
   },
   "outputs": [],
   "source": [
    "#Step 6 is to perform a training step\n",
    "#Create a cost function, mean square error\n",
    "cost = tf.reduce_sum(tf.pow(y_ - y, 2)) / (2 * n_sample)\n",
    "#Gradient Descent\n",
    "optimizer = tf.train.GradientDescentOptimizer(learning_rate).minimize(cost)"
   ]
  },
  {
   "cell_type": "code",
   "execution_count": 75,
   "metadata": {
    "collapsed": false
   },
   "outputs": [
    {
     "name": "stdout",
     "output_type": "stream",
     "text": [
      "WARNING:tensorflow:From <ipython-input-75-eccf33d74a75>:2 in <module>.: initialize_all_variables (from tensorflow.python.ops.variables) is deprecated and will be removed after 2017-03-02.\n",
      "Instructions for updating:\n",
      "Use `tf.global_variables_initializer` instead.\n"
     ]
    }
   ],
   "source": [
    "#initialize variables and tensorflow sessions\n",
    "init = tf.initialize_all_variables()\n",
    "sess = tf.Session()\n",
    "sess.run(init)"
   ]
  },
  {
   "cell_type": "code",
   "execution_count": 65,
   "metadata": {
    "collapsed": false
   },
   "outputs": [
    {
     "name": "stdout",
     "output_type": "stream",
     "text": [
      "Training Step 0, cost = 0.1095372885465622\n",
      "Training Step 50, cost = 0.10953720659017563\n",
      "Training Step 100, cost = 0.10953714698553085\n",
      "Training Step 150, cost = 0.10953707993030548\n",
      "Training Step 200, cost = 0.1095370203256607\n",
      "Training Step 250, cost = 0.10953693091869354\n",
      "Training Step 300, cost = 0.10953687131404877\n",
      "Training Step 350, cost = 0.1095368042588234\n",
      "Training Step 400, cost = 0.10953674465417862\n",
      "Training Step 450, cost = 0.10953667014837265\n",
      "Training Step 500, cost = 0.10953660309314728\n",
      "Training Step 550, cost = 0.10953652858734131\n",
      "Training Step 600, cost = 0.10953645408153534\n",
      "Training Step 650, cost = 0.10953639447689056\n",
      "Training Step 700, cost = 0.109536312520504\n",
      "Training Step 750, cost = 0.10953625291585922\n",
      "Training Step 800, cost = 0.10953619331121445\n",
      "Training Step 850, cost = 0.10953612625598907\n",
      "Training Step 900, cost = 0.1095360517501831\n",
      "Training Step 950, cost = 0.10953597724437714\n",
      "Training Step 1000, cost = 0.10953591763973236\n",
      "Training Step 1050, cost = 0.1095358356833458\n",
      "Training Step 1100, cost = 0.10953579097986221\n",
      "Training Step 1150, cost = 0.10953570902347565\n",
      "Training Step 1200, cost = 0.10953564941883087\n",
      "Training Step 1250, cost = 0.1095355749130249\n",
      "Training Step 1300, cost = 0.10953550040721893\n",
      "Training Step 1350, cost = 0.10953543335199356\n",
      "Training Step 1400, cost = 0.10953537374734879\n",
      "Training Step 1450, cost = 0.10953529924154282\n",
      "Training Step 1500, cost = 0.10953523218631744\n",
      "Training Step 1550, cost = 0.10953517258167267\n",
      "Training Step 1600, cost = 0.1095350980758667\n",
      "Training Step 1650, cost = 0.10953502357006073\n",
      "Training Step 1700, cost = 0.10953496396541595\n",
      "Training Step 1750, cost = 0.10953488200902939\n",
      "Training Step 1800, cost = 0.10953481495380402\n",
      "Training Step 1850, cost = 0.10953476279973984\n",
      "Training Step 1900, cost = 0.10953469574451447\n",
      "Training Step 1950, cost = 0.1095346212387085\n",
      "Optimization Finished!\n",
      "Training cost = 0.10953454673290253, Weight = [[ 0.00021405 -0.00021405]\n",
      " [ 0.00010217 -0.00010217]], Biases = [  2.37067234e-05  -2.37067343e-05]\n"
     ]
    }
   ],
   "source": [
    "#Step 7 actual training loop\n",
    "for i in range(training_epochs):\n",
    "    sess.run(optimizer, feed_dict={x: inputX, y_: inputY})\n",
    "    if i % disp_steps == 0:\n",
    "        cc = sess.run(cost, feed_dict={x: inputX, y_: inputY})\n",
    "        print (\"Training Step {a}, cost = {b}\".format(a = i, b = cc))\n",
    "\n",
    "print(\"Optimization Finished!\")\n",
    "training_cost = sess.run(cost, feed_dict={x: inputX, y_: inputY})\n",
    "print(\"Training cost = {c}, Weight = {w}, Biases = {b}\".format(c = training_cost, w = sess.run(w_weights), b = sess.run(b_biases)))"
   ]
  },
  {
   "cell_type": "code",
   "execution_count": 66,
   "metadata": {
    "collapsed": false
   },
   "outputs": [
    {
     "data": {
      "text/plain": [
       "array([[ 0.71123087,  0.28876919],\n",
       "       [ 0.66498965,  0.33501032],\n",
       "       [ 0.73654455,  0.26345551],\n",
       "       [ 0.64717317,  0.3528268 ],\n",
       "       [ 0.78332442,  0.21667559],\n",
       "       [ 0.70069939,  0.29930058],\n",
       "       [ 0.65866619,  0.34133381],\n",
       "       [ 0.64829433,  0.3517057 ],\n",
       "       [ 0.64369309,  0.35630691],\n",
       "       [ 0.65480596,  0.34519401]], dtype=float32)"
      ]
     },
     "execution_count": 66,
     "metadata": {},
     "output_type": "execute_result"
    }
   ],
   "source": [
    "sess.run(y, feed_dict={x: inputX})"
   ]
  },
  {
   "cell_type": "code",
   "execution_count": null,
   "metadata": {
    "collapsed": true
   },
   "outputs": [],
   "source": [
    "#Above results indicate that all houses are good buy\n",
    "#not true, as the good buy is 7/10\n",
    "#how to imporve?\n",
    "#add a hidden layer"
   ]
  }
 ],
 "metadata": {
  "anaconda-cloud": {},
  "kernelspec": {
   "display_name": "Python 3",
   "language": "python",
   "name": "python3"
  },
  "language_info": {
   "codemirror_mode": {
    "name": "ipython",
    "version": 3
   },
   "file_extension": ".py",
   "mimetype": "text/x-python",
   "name": "python",
   "nbconvert_exporter": "python",
   "pygments_lexer": "ipython3",
   "version": "3.6.0"
  }
 },
 "nbformat": 4,
 "nbformat_minor": 1
}
